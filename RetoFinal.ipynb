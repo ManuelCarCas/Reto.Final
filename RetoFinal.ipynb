{
 "cells": [
  {
   "cell_type": "code",
   "execution_count": null,
   "metadata": {},
   "outputs": [],
   "source": [
    "import pandas as pd\n",
    "import numpy as np\n",
    "import matplotlib.pyplot as plt\n",
    "import cufflinks as cf\n",
    "from IPython.display import display,HTML"
   ]
  },
  {
   "cell_type": "code",
   "execution_count": null,
   "metadata": {},
   "outputs": [],
   "source": [
    "#Leo mi archivo.csv\n",
    "data = pd.read_csv(\"CountryTable.csv\")\n",
    "data"
   ]
  },
  {
   "cell_type": "code",
   "execution_count": null,
   "metadata": {},
   "outputs": [],
   "source": [
    "valores_nulos=data.isnull().sum()\n",
    "valores_nulos"
   ]
  },
  {
   "cell_type": "code",
   "execution_count": null,
   "metadata": {},
   "outputs": [],
   "source": [
    "data['independence_year'] = data['independence_year'].fillna(1900)"
   ]
  },
  {
   "cell_type": "code",
   "execution_count": null,
   "metadata": {},
   "outputs": [],
   "source": [
    "#Realizamos una copia del dataframe\n",
    "data1=data.copy()\n",
    "\n",
    "#Sustituir valores nulos con promedio o media\n",
    "data1[\"life_expectancy\"]=data1[\"life_expectancy\"].fillna(round(data[\"life_expectancy\"].mean(),1))\n",
    "data1\n"
   ]
  },
  {
   "cell_type": "code",
   "execution_count": null,
   "metadata": {},
   "outputs": [],
   "source": [
    "#Realizamos una copia del dataframe\n",
    "data2=data1.copy()\n",
    "\n",
    "#Sustituir valores nulos con mediana\n",
    "data2[\"gnp_old\"]=data2[\"gnp_old\"].fillna(round(data1[\"gnp_old\"].median(),1))\n",
    "data2"
   ]
  },
  {
   "cell_type": "code",
   "execution_count": null,
   "metadata": {},
   "outputs": [],
   "source": [
    "data2['local_name'] = data2['local_name'].fillna(\"Inexistente\")"
   ]
  },
  {
   "cell_type": "code",
   "execution_count": null,
   "metadata": {},
   "outputs": [],
   "source": [
    "data2['head_of_state'] = data2['head_of_state'].fillna(\"Desconocido\")"
   ]
  },
  {
   "cell_type": "code",
   "execution_count": null,
   "metadata": {},
   "outputs": [],
   "source": [
    "data2['capital'] = data2['capital'].fillna(0)"
   ]
  },
  {
   "cell_type": "code",
   "execution_count": null,
   "metadata": {},
   "outputs": [],
   "source": [
    "data2['code2'] = data2['code2'].fillna(\"NA\")"
   ]
  },
  {
   "cell_type": "code",
   "execution_count": null,
   "metadata": {},
   "outputs": [],
   "source": [
    "#Obtenemos la cuenta de los elementos nulos del dataframe por COLUMNA\n",
    "Cuenta_Nulos= data2.isnull().sum()\n",
    "Cuenta_Nulos"
   ]
  },
  {
   "cell_type": "code",
   "execution_count": null,
   "metadata": {},
   "outputs": [],
   "source": [
    "data2.to_csv(\"CountryTable_sinNulos.csv\")"
   ]
  },
  {
   "cell_type": "code",
   "execution_count": null,
   "metadata": {},
   "outputs": [],
   "source": [
    "DATA = pd.read_csv(\"CountryTable_sinNulos.csv\")\n",
    "DATA"
   ]
  },
  {
   "cell_type": "code",
   "execution_count": null,
   "metadata": {},
   "outputs": [],
   "source": [
    "#Método aplicando desviación estandar. Encuentro los valores extremos\n",
    "y=DATA[\"gnp_old\"]\n",
    "Limite_Superior= y.mean() + 2*y.std()\n",
    "Limite_Inferior= y.mean() - 2*y.std()\n",
    "print(\"Limite superior permitido\", Limite_Superior)\n",
    "print(\"Limite inferior permitido\", Limite_Inferior)"
   ]
  },
  {
   "cell_type": "code",
   "execution_count": null,
   "metadata": {},
   "outputs": [],
   "source": [
    "#Diagrama de caja y bigote de cada columna del dataframe\n",
    "fig = plt.figure(figsize =(15, 8))\n",
    "DATA[['gnp_old']].plot(kind='box', vert=False)\n",
    "plt.title(\"Valores atipicos de la columna gnp_old\")\n",
    "plt.show() #Se dibuja el diagrama"
   ]
  },
  {
   "cell_type": "code",
   "execution_count": null,
   "metadata": {},
   "outputs": [],
   "source": [
    "#Encontramos Ouliers\n",
    "outliers_gnp_old= DATA[(y>Limite_Superior)|(y<Limite_Inferior)]\n",
    "outliers_gnp_old"
   ]
  },
  {
   "cell_type": "code",
   "execution_count": null,
   "metadata": {},
   "outputs": [],
   "source": [
    "#Obtenemos datos limpios\n",
    "data_clean= DATA[(y<=Limite_Superior)&(y>=Limite_Inferior)]\n",
    "data_clean"
   ]
  },
  {
   "cell_type": "code",
   "execution_count": null,
   "metadata": {},
   "outputs": [],
   "source": [
    "#Método aplicando desviación estandar. Encuentro los valores extremos\n",
    "y=DATA[\"population\"]\n",
    "Limite_Superior= y.mean() + 2*y.std()\n",
    "Limite_Inferior= y.mean() - 2*y.std()\n",
    "print(\"Limite superior permitido\", Limite_Superior)\n",
    "print(\"Limite inferior permitido\", Limite_Inferior)"
   ]
  },
  {
   "cell_type": "code",
   "execution_count": null,
   "metadata": {},
   "outputs": [],
   "source": [
    "#Diagrama de caja y bigote de cada columna del dataframe\n",
    "fig = plt.figure(figsize =(15, 8))\n",
    "DATA[['population']].plot(kind='box', vert=False)\n",
    "plt.title(\"Valores atipicos de la columna population\")\n",
    "plt.show() #Se dibuja el diagrama"
   ]
  },
  {
   "cell_type": "code",
   "execution_count": null,
   "metadata": {},
   "outputs": [],
   "source": [
    "#Encontramos Ouliers\n",
    "outliers_population= DATA[(y>Limite_Superior)|(y<Limite_Inferior)]\n",
    "outliers_population"
   ]
  },
  {
   "cell_type": "code",
   "execution_count": null,
   "metadata": {},
   "outputs": [],
   "source": [
    "#Obtenemos datos limpios\n",
    "data_clean= DATA[(y<=Limite_Superior)&(y>=Limite_Inferior)]\n",
    "data_clean"
   ]
  },
  {
   "cell_type": "code",
   "execution_count": null,
   "metadata": {},
   "outputs": [],
   "source": [
    "#Método aplicando Cuartiles. Encuentro cuartiles 0.25 y 0.75\n",
    "y=DATA[\"gnp_old\"]\n",
    "\n",
    "percentile25=y.quantile(0.25) #Q1\n",
    "percentile75=y.quantile(0.75) #Q3\n",
    "iqr= percentile75 - percentile25\n",
    "\n",
    "Limite_Superior_iqr= percentile75 + 1.3*iqr\n",
    "Limite_Inferior_iqr= percentile25 - 1.3*iqr\n",
    "print(\"Limite superior permitido\", Limite_Superior_iqr)\n",
    "print(\"Limite inferior permitido\", Limite_Inferior_iqr)"
   ]
  },
  {
   "cell_type": "code",
   "execution_count": null,
   "metadata": {},
   "outputs": [],
   "source": [
    "#Realizamos diagrama de caja o bigote\n",
    "fig = plt.figure(figsize =(5, 3))\n",
    "plt.boxplot(DATA[\"gnp_old\"]) \n",
    "plt.title(\"Outliers de la columna gnp_old\")\n",
    "plt.show() #dibujamos el diagrama"
   ]
  },
  {
   "cell_type": "code",
   "execution_count": null,
   "metadata": {},
   "outputs": [],
   "source": [
    "#Encontramos Ouliers\n",
    "outliers_iqr1= DATA[(y>Limite_Superior_iqr)|(y<Limite_Inferior_iqr)]\n",
    "outliers_iqr1"
   ]
  },
  {
   "cell_type": "code",
   "execution_count": null,
   "metadata": {},
   "outputs": [],
   "source": [
    "#Obtenemos datos limpios\n",
    "data_clean_iqr1= DATA[(y<=Limite_Superior_iqr)&(y>=Limite_Inferior_iqr)]\n",
    "data_clean_iqr1"
   ]
  },
  {
   "cell_type": "code",
   "execution_count": null,
   "metadata": {},
   "outputs": [],
   "source": [
    "#Método aplicando Cuartiles. Encuentro cuartiles 0.25 y 0.75\n",
    "y=DATA[\"surface_area\"]\n",
    "\n",
    "percentile25=y.quantile(0.25) #Q1\n",
    "percentile75=y.quantile(0.75) #Q3\n",
    "iqr= percentile75 - percentile25\n",
    "\n",
    "Limite_Superior_iqr= percentile75 + 1.3*iqr\n",
    "Limite_Inferior_iqr= percentile25 - 1.3*iqr\n",
    "print(\"Limite superior permitido\", Limite_Superior_iqr)\n",
    "print(\"Limite inferior permitido\", Limite_Inferior_iqr)"
   ]
  },
  {
   "cell_type": "code",
   "execution_count": null,
   "metadata": {},
   "outputs": [],
   "source": [
    "#Realizamos diagrama de caja o bigote\n",
    "fig = plt.figure(figsize =(5, 3))\n",
    "plt.boxplot(DATA[\"surface_area\"]) \n",
    "plt.title(\"Outliers de la columna surface_area\")\n",
    "plt.show() #dibujamos el diagrama"
   ]
  },
  {
   "cell_type": "code",
   "execution_count": null,
   "metadata": {},
   "outputs": [],
   "source": [
    "#Encontramos Ouliers\n",
    "outliers_iqr2= DATA[(y>Limite_Superior_iqr)|(y<Limite_Inferior_iqr)]\n",
    "outliers_iqr2"
   ]
  },
  {
   "cell_type": "code",
   "execution_count": null,
   "metadata": {},
   "outputs": [],
   "source": [
    "#Obtenemos datos limpios\n",
    "data_clean_iqr2= DATA[(y<=Limite_Superior_iqr)&(y>=Limite_Inferior_iqr)]\n",
    "data_clean_iqr2"
   ]
  },
  {
   "cell_type": "code",
   "execution_count": null,
   "metadata": {},
   "outputs": [],
   "source": [
    "#Método aplicando Cuartiles. Encuentro cuartiles 0.25 y 0.75\n",
    "y=DATA[\"life_expectancy\"]\n",
    "\n",
    "percentile25=y.quantile(0.25) #Q1\n",
    "percentile75=y.quantile(0.75) #Q3\n",
    "iqr= percentile75 - percentile25\n",
    "\n",
    "Limite_Superior_iqr= percentile75 + 1.3*iqr\n",
    "Limite_Inferior_iqr= percentile25 - 1.3*iqr\n",
    "print(\"Limite superior permitido\", Limite_Superior_iqr)\n",
    "print(\"Limite inferior permitido\", Limite_Inferior_iqr)"
   ]
  },
  {
   "cell_type": "code",
   "execution_count": null,
   "metadata": {},
   "outputs": [],
   "source": [
    "#Realizamos diagrama de caja o bigote\n",
    "fig = plt.figure(figsize =(5, 3))\n",
    "plt.boxplot(DATA[\"life_expectancy\"]) \n",
    "plt.title(\"Outliers de la columna life_expectancy\")\n",
    "plt.show() #dibujamos el diagrama"
   ]
  },
  {
   "cell_type": "code",
   "execution_count": null,
   "metadata": {},
   "outputs": [],
   "source": [
    "#Encontramos Ouliers\n",
    "outliers_iqr3= DATA[(y>Limite_Superior_iqr)|(y<Limite_Inferior_iqr)]\n",
    "outliers_iqr3"
   ]
  },
  {
   "cell_type": "code",
   "execution_count": null,
   "metadata": {},
   "outputs": [],
   "source": [
    "#Obtenemos datos limpios\n",
    "data_clean_iqr3= DATA[(y<=Limite_Superior_iqr)&(y>=Limite_Inferior_iqr)]\n",
    "data_clean_iqr3"
   ]
  },
  {
   "cell_type": "code",
   "execution_count": null,
   "metadata": {},
   "outputs": [],
   "source": [
    "#Método aplicando Cuartiles. Encuentro cuartiles 0.25 y 0.75\n",
    "y=DATA[\"population\"]\n",
    "\n",
    "percentile25=y.quantile(0.25) #Q1\n",
    "percentile75=y.quantile(0.75) #Q3\n",
    "iqr= percentile75 - percentile25\n",
    "\n",
    "Limite_Superior_iqr= percentile75 + 1.3*iqr\n",
    "Limite_Inferior_iqr= percentile25 - 1.3*iqr\n",
    "print(\"Limite superior permitido\", Limite_Superior_iqr)\n",
    "print(\"Limite inferior permitido\", Limite_Inferior_iqr)"
   ]
  },
  {
   "cell_type": "code",
   "execution_count": null,
   "metadata": {},
   "outputs": [],
   "source": [
    "#Realizamos diagrama de caja o bigote\n",
    "fig = plt.figure(figsize =(5, 3))\n",
    "plt.boxplot(DATA[\"population\"]) \n",
    "plt.title(\"Outliers de la columna population\")\n",
    "plt.show() #dibujamos el diagrama"
   ]
  },
  {
   "cell_type": "code",
   "execution_count": null,
   "metadata": {},
   "outputs": [],
   "source": [
    "#Encontramos Ouliers\n",
    "outliers_iqr4= DATA[(y>Limite_Superior_iqr)|(y<Limite_Inferior_iqr)]\n",
    "outliers_iqr4"
   ]
  },
  {
   "cell_type": "code",
   "execution_count": null,
   "metadata": {},
   "outputs": [],
   "source": [
    "#Obtenemos datos limpios\n",
    "data_clean_iqr4= DATA[(y<=Limite_Superior_iqr)&(y>=Limite_Inferior_iqr)]\n",
    "data_clean_iqr4"
   ]
  },
  {
   "cell_type": "code",
   "execution_count": null,
   "metadata": {},
   "outputs": [],
   "source": [
    "#Método aplicando desviación estandar. Encuentro los valores extremos\n",
    "y=DATA[\"gnp_old\"]\n",
    "Limite_Superior= y.mean() + 3*y.std()\n",
    "Limite_Inferior= y.mean() - 3*y.std()\n",
    "print(\"Limite superior permitido\", Limite_Superior)\n",
    "print(\"Limite inferior permitido\", Limite_Inferior)"
   ]
  },
  {
   "cell_type": "code",
   "execution_count": null,
   "metadata": {},
   "outputs": [],
   "source": [
    "#Encontramos Ouliers\n",
    "outliers_iqr5= DATA[(y>Limite_Superior_iqr)|(y<Limite_Inferior_iqr)]\n",
    "outliers_iqr5"
   ]
  },
  {
   "cell_type": "code",
   "execution_count": null,
   "metadata": {},
   "outputs": [],
   "source": [
    "#Obtenemos datos limpios\n",
    "data_clean_iqr5= DATA[(y<=Limite_Superior_iqr)&(y>=Limite_Inferior_iqr)]\n",
    "data_clean_iqr5"
   ]
  },
  {
   "cell_type": "code",
   "execution_count": null,
   "metadata": {},
   "outputs": [],
   "source": [
    "#Reemplazamos valores atipicos del dataframe con mean\n",
    "#Realizamos copia del dataframe\n",
    "data_clean=DATA.copy()\n",
    "data_clean=data_clean.fillna(round(DATA[\"gnp_old\"].mean(),1))\n",
    "data_clean"
   ]
  },
  {
   "cell_type": "code",
   "execution_count": null,
   "metadata": {},
   "outputs": [],
   "source": [
    "#Convertir DataFrame a CSV\n",
    "data_clean.to_csv(\"Datos_limpios.csv\")"
   ]
  }
 ],
 "metadata": {
  "kernelspec": {
   "display_name": "Python 3.10.6 64-bit",
   "language": "python",
   "name": "python3"
  },
  "language_info": {
   "codemirror_mode": {
    "name": "ipython",
    "version": 3
   },
   "file_extension": ".py",
   "mimetype": "text/x-python",
   "name": "python",
   "nbconvert_exporter": "python",
   "pygments_lexer": "ipython3",
   "version": "3.10.6"
  },
  "orig_nbformat": 4,
  "vscode": {
   "interpreter": {
    "hash": "aee8b7b246df8f9039afb4144a1f6fd8d2ca17a180786b69acc140d282b71a49"
   }
  }
 },
 "nbformat": 4,
 "nbformat_minor": 2
}
